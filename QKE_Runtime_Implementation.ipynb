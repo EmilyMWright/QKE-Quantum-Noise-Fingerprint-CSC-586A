{
 "cells": [
  {
   "cell_type": "markdown",
   "id": "bab5b3fa-9ac4-405c-8ebe-4861d5cd42ee",
   "metadata": {},
   "source": [
    "# Imports"
   ]
  },
  {
   "cell_type": "code",
   "execution_count": 1,
   "id": "5d33f32d-06af-4e29-adbc-9f27b604e1f2",
   "metadata": {},
   "outputs": [],
   "source": [
    "import pandas as pd\n",
    "import numpy as np\n",
    "import matplotlib.pyplot as plt\n",
    "\n",
    "from sklearn.model_selection import train_test_split\n",
    "from sklearn.decomposition import PCA\n",
    "from sklearn.svm import SVC \n",
    "\n",
    "from qiskit import QuantumCircuit, Aer, execute, IBMQ\n",
    "from qiskit.providers.ibmq import least_busy\n",
    "from qiskit.utils import QuantumInstance\n",
    "from qiskit.circuit.library import ZZFeatureMap\n",
    "from qiskit_machine_learning.kernels import QuantumKernel\n",
    "from qiskit.providers.ibmq.runtime.runtime_job import RuntimeJobFailureError"
   ]
  },
  {
   "cell_type": "markdown",
   "id": "ed6c68a9-ebc9-4f70-b6ec-4ed781a64514",
   "metadata": {},
   "source": [
    "# Pre-processing\n",
    "## Load Data"
   ]
  },
  {
   "cell_type": "code",
   "execution_count": 2,
   "id": "4374931b-2e4f-4b55-82da-4804218128bf",
   "metadata": {},
   "outputs": [
    {
     "data": {
      "text/html": [
       "<div>\n",
       "<style scoped>\n",
       "    .dataframe tbody tr th:only-of-type {\n",
       "        vertical-align: middle;\n",
       "    }\n",
       "\n",
       "    .dataframe tbody tr th {\n",
       "        vertical-align: top;\n",
       "    }\n",
       "\n",
       "    .dataframe thead th {\n",
       "        text-align: right;\n",
       "    }\n",
       "</style>\n",
       "<table border=\"1\" class=\"dataframe\">\n",
       "  <thead>\n",
       "    <tr style=\"text-align: right;\">\n",
       "      <th></th>\n",
       "      <th>p00_1</th>\n",
       "      <th>p01_1</th>\n",
       "      <th>p10_1</th>\n",
       "      <th>p11_1</th>\n",
       "      <th>p00_2</th>\n",
       "      <th>p01_2</th>\n",
       "      <th>p10_2</th>\n",
       "      <th>p11_2</th>\n",
       "      <th>p00_3</th>\n",
       "      <th>p01_3</th>\n",
       "      <th>...</th>\n",
       "      <th>p11_7</th>\n",
       "      <th>p00_8</th>\n",
       "      <th>p01_8</th>\n",
       "      <th>p10_8</th>\n",
       "      <th>p11_8</th>\n",
       "      <th>p00_9</th>\n",
       "      <th>p01_9</th>\n",
       "      <th>p10_9</th>\n",
       "      <th>p11_9</th>\n",
       "      <th>QC Name</th>\n",
       "    </tr>\n",
       "  </thead>\n",
       "  <tbody>\n",
       "    <tr>\n",
       "      <th>0</th>\n",
       "      <td>0.536</td>\n",
       "      <td>0.448</td>\n",
       "      <td>0.007</td>\n",
       "      <td>0.009</td>\n",
       "      <td>0.342</td>\n",
       "      <td>0.271</td>\n",
       "      <td>0.152</td>\n",
       "      <td>0.235</td>\n",
       "      <td>0.177</td>\n",
       "      <td>0.470</td>\n",
       "      <td>...</td>\n",
       "      <td>0.207</td>\n",
       "      <td>0.374</td>\n",
       "      <td>0.191</td>\n",
       "      <td>0.237</td>\n",
       "      <td>0.198</td>\n",
       "      <td>0.299</td>\n",
       "      <td>0.266</td>\n",
       "      <td>0.244</td>\n",
       "      <td>0.191</td>\n",
       "      <td>quito</td>\n",
       "    </tr>\n",
       "    <tr>\n",
       "      <th>1</th>\n",
       "      <td>0.482</td>\n",
       "      <td>0.470</td>\n",
       "      <td>0.018</td>\n",
       "      <td>0.030</td>\n",
       "      <td>0.287</td>\n",
       "      <td>0.236</td>\n",
       "      <td>0.234</td>\n",
       "      <td>0.243</td>\n",
       "      <td>0.129</td>\n",
       "      <td>0.364</td>\n",
       "      <td>...</td>\n",
       "      <td>0.172</td>\n",
       "      <td>0.293</td>\n",
       "      <td>0.219</td>\n",
       "      <td>0.262</td>\n",
       "      <td>0.226</td>\n",
       "      <td>0.275</td>\n",
       "      <td>0.289</td>\n",
       "      <td>0.239</td>\n",
       "      <td>0.197</td>\n",
       "      <td>casablanca</td>\n",
       "    </tr>\n",
       "    <tr>\n",
       "      <th>2</th>\n",
       "      <td>0.467</td>\n",
       "      <td>0.519</td>\n",
       "      <td>0.006</td>\n",
       "      <td>0.008</td>\n",
       "      <td>0.274</td>\n",
       "      <td>0.232</td>\n",
       "      <td>0.228</td>\n",
       "      <td>0.266</td>\n",
       "      <td>0.119</td>\n",
       "      <td>0.435</td>\n",
       "      <td>...</td>\n",
       "      <td>0.164</td>\n",
       "      <td>0.310</td>\n",
       "      <td>0.215</td>\n",
       "      <td>0.281</td>\n",
       "      <td>0.194</td>\n",
       "      <td>0.291</td>\n",
       "      <td>0.223</td>\n",
       "      <td>0.285</td>\n",
       "      <td>0.201</td>\n",
       "      <td>bogota</td>\n",
       "    </tr>\n",
       "    <tr>\n",
       "      <th>3</th>\n",
       "      <td>0.481</td>\n",
       "      <td>0.508</td>\n",
       "      <td>0.006</td>\n",
       "      <td>0.005</td>\n",
       "      <td>0.337</td>\n",
       "      <td>0.283</td>\n",
       "      <td>0.168</td>\n",
       "      <td>0.212</td>\n",
       "      <td>0.183</td>\n",
       "      <td>0.454</td>\n",
       "      <td>...</td>\n",
       "      <td>0.225</td>\n",
       "      <td>0.323</td>\n",
       "      <td>0.252</td>\n",
       "      <td>0.208</td>\n",
       "      <td>0.217</td>\n",
       "      <td>0.337</td>\n",
       "      <td>0.252</td>\n",
       "      <td>0.226</td>\n",
       "      <td>0.185</td>\n",
       "      <td>quito</td>\n",
       "    </tr>\n",
       "    <tr>\n",
       "      <th>4</th>\n",
       "      <td>0.785</td>\n",
       "      <td>0.172</td>\n",
       "      <td>0.033</td>\n",
       "      <td>0.010</td>\n",
       "      <td>0.430</td>\n",
       "      <td>0.382</td>\n",
       "      <td>0.090</td>\n",
       "      <td>0.098</td>\n",
       "      <td>0.181</td>\n",
       "      <td>0.374</td>\n",
       "      <td>...</td>\n",
       "      <td>0.183</td>\n",
       "      <td>0.291</td>\n",
       "      <td>0.206</td>\n",
       "      <td>0.274</td>\n",
       "      <td>0.229</td>\n",
       "      <td>0.318</td>\n",
       "      <td>0.268</td>\n",
       "      <td>0.222</td>\n",
       "      <td>0.192</td>\n",
       "      <td>yorktown</td>\n",
       "    </tr>\n",
       "    <tr>\n",
       "      <th>...</th>\n",
       "      <td>...</td>\n",
       "      <td>...</td>\n",
       "      <td>...</td>\n",
       "      <td>...</td>\n",
       "      <td>...</td>\n",
       "      <td>...</td>\n",
       "      <td>...</td>\n",
       "      <td>...</td>\n",
       "      <td>...</td>\n",
       "      <td>...</td>\n",
       "      <td>...</td>\n",
       "      <td>...</td>\n",
       "      <td>...</td>\n",
       "      <td>...</td>\n",
       "      <td>...</td>\n",
       "      <td>...</td>\n",
       "      <td>...</td>\n",
       "      <td>...</td>\n",
       "      <td>...</td>\n",
       "      <td>...</td>\n",
       "      <td>...</td>\n",
       "    </tr>\n",
       "    <tr>\n",
       "      <th>13995</th>\n",
       "      <td>0.549</td>\n",
       "      <td>0.433</td>\n",
       "      <td>0.007</td>\n",
       "      <td>0.011</td>\n",
       "      <td>0.247</td>\n",
       "      <td>0.271</td>\n",
       "      <td>0.272</td>\n",
       "      <td>0.210</td>\n",
       "      <td>0.108</td>\n",
       "      <td>0.478</td>\n",
       "      <td>...</td>\n",
       "      <td>0.177</td>\n",
       "      <td>0.367</td>\n",
       "      <td>0.192</td>\n",
       "      <td>0.265</td>\n",
       "      <td>0.176</td>\n",
       "      <td>0.275</td>\n",
       "      <td>0.292</td>\n",
       "      <td>0.277</td>\n",
       "      <td>0.156</td>\n",
       "      <td>lima</td>\n",
       "    </tr>\n",
       "    <tr>\n",
       "      <th>13996</th>\n",
       "      <td>0.532</td>\n",
       "      <td>0.441</td>\n",
       "      <td>0.020</td>\n",
       "      <td>0.007</td>\n",
       "      <td>0.263</td>\n",
       "      <td>0.250</td>\n",
       "      <td>0.252</td>\n",
       "      <td>0.235</td>\n",
       "      <td>0.097</td>\n",
       "      <td>0.364</td>\n",
       "      <td>...</td>\n",
       "      <td>0.140</td>\n",
       "      <td>0.324</td>\n",
       "      <td>0.199</td>\n",
       "      <td>0.262</td>\n",
       "      <td>0.215</td>\n",
       "      <td>0.301</td>\n",
       "      <td>0.239</td>\n",
       "      <td>0.241</td>\n",
       "      <td>0.219</td>\n",
       "      <td>casablanca</td>\n",
       "    </tr>\n",
       "    <tr>\n",
       "      <th>13997</th>\n",
       "      <td>0.499</td>\n",
       "      <td>0.490</td>\n",
       "      <td>0.008</td>\n",
       "      <td>0.003</td>\n",
       "      <td>0.265</td>\n",
       "      <td>0.244</td>\n",
       "      <td>0.250</td>\n",
       "      <td>0.241</td>\n",
       "      <td>0.074</td>\n",
       "      <td>0.460</td>\n",
       "      <td>...</td>\n",
       "      <td>0.166</td>\n",
       "      <td>0.458</td>\n",
       "      <td>0.165</td>\n",
       "      <td>0.225</td>\n",
       "      <td>0.152</td>\n",
       "      <td>0.391</td>\n",
       "      <td>0.236</td>\n",
       "      <td>0.230</td>\n",
       "      <td>0.143</td>\n",
       "      <td>athens</td>\n",
       "    </tr>\n",
       "    <tr>\n",
       "      <th>13998</th>\n",
       "      <td>0.492</td>\n",
       "      <td>0.500</td>\n",
       "      <td>0.002</td>\n",
       "      <td>0.006</td>\n",
       "      <td>0.342</td>\n",
       "      <td>0.274</td>\n",
       "      <td>0.149</td>\n",
       "      <td>0.235</td>\n",
       "      <td>0.195</td>\n",
       "      <td>0.448</td>\n",
       "      <td>...</td>\n",
       "      <td>0.195</td>\n",
       "      <td>0.334</td>\n",
       "      <td>0.223</td>\n",
       "      <td>0.230</td>\n",
       "      <td>0.213</td>\n",
       "      <td>0.334</td>\n",
       "      <td>0.233</td>\n",
       "      <td>0.241</td>\n",
       "      <td>0.192</td>\n",
       "      <td>quito</td>\n",
       "    </tr>\n",
       "    <tr>\n",
       "      <th>13999</th>\n",
       "      <td>0.548</td>\n",
       "      <td>0.439</td>\n",
       "      <td>0.008</td>\n",
       "      <td>0.005</td>\n",
       "      <td>0.264</td>\n",
       "      <td>0.228</td>\n",
       "      <td>0.284</td>\n",
       "      <td>0.224</td>\n",
       "      <td>0.113</td>\n",
       "      <td>0.446</td>\n",
       "      <td>...</td>\n",
       "      <td>0.140</td>\n",
       "      <td>0.287</td>\n",
       "      <td>0.213</td>\n",
       "      <td>0.339</td>\n",
       "      <td>0.161</td>\n",
       "      <td>0.306</td>\n",
       "      <td>0.258</td>\n",
       "      <td>0.276</td>\n",
       "      <td>0.160</td>\n",
       "      <td>casablanca</td>\n",
       "    </tr>\n",
       "  </tbody>\n",
       "</table>\n",
       "<p>14000 rows × 37 columns</p>\n",
       "</div>"
      ],
      "text/plain": [
       "       p00_1  p01_1  p10_1  p11_1  p00_2  p01_2  p10_2  p11_2  p00_3  p01_3  \\\n",
       "0      0.536  0.448  0.007  0.009  0.342  0.271  0.152  0.235  0.177  0.470   \n",
       "1      0.482  0.470  0.018  0.030  0.287  0.236  0.234  0.243  0.129  0.364   \n",
       "2      0.467  0.519  0.006  0.008  0.274  0.232  0.228  0.266  0.119  0.435   \n",
       "3      0.481  0.508  0.006  0.005  0.337  0.283  0.168  0.212  0.183  0.454   \n",
       "4      0.785  0.172  0.033  0.010  0.430  0.382  0.090  0.098  0.181  0.374   \n",
       "...      ...    ...    ...    ...    ...    ...    ...    ...    ...    ...   \n",
       "13995  0.549  0.433  0.007  0.011  0.247  0.271  0.272  0.210  0.108  0.478   \n",
       "13996  0.532  0.441  0.020  0.007  0.263  0.250  0.252  0.235  0.097  0.364   \n",
       "13997  0.499  0.490  0.008  0.003  0.265  0.244  0.250  0.241  0.074  0.460   \n",
       "13998  0.492  0.500  0.002  0.006  0.342  0.274  0.149  0.235  0.195  0.448   \n",
       "13999  0.548  0.439  0.008  0.005  0.264  0.228  0.284  0.224  0.113  0.446   \n",
       "\n",
       "       ...  p11_7  p00_8  p01_8  p10_8  p11_8  p00_9  p01_9  p10_9  p11_9  \\\n",
       "0      ...  0.207  0.374  0.191  0.237  0.198  0.299  0.266  0.244  0.191   \n",
       "1      ...  0.172  0.293  0.219  0.262  0.226  0.275  0.289  0.239  0.197   \n",
       "2      ...  0.164  0.310  0.215  0.281  0.194  0.291  0.223  0.285  0.201   \n",
       "3      ...  0.225  0.323  0.252  0.208  0.217  0.337  0.252  0.226  0.185   \n",
       "4      ...  0.183  0.291  0.206  0.274  0.229  0.318  0.268  0.222  0.192   \n",
       "...    ...    ...    ...    ...    ...    ...    ...    ...    ...    ...   \n",
       "13995  ...  0.177  0.367  0.192  0.265  0.176  0.275  0.292  0.277  0.156   \n",
       "13996  ...  0.140  0.324  0.199  0.262  0.215  0.301  0.239  0.241  0.219   \n",
       "13997  ...  0.166  0.458  0.165  0.225  0.152  0.391  0.236  0.230  0.143   \n",
       "13998  ...  0.195  0.334  0.223  0.230  0.213  0.334  0.233  0.241  0.192   \n",
       "13999  ...  0.140  0.287  0.213  0.339  0.161  0.306  0.258  0.276  0.160   \n",
       "\n",
       "          QC Name  \n",
       "0           quito  \n",
       "1      casablanca  \n",
       "2          bogota  \n",
       "3           quito  \n",
       "4        yorktown  \n",
       "...           ...  \n",
       "13995        lima  \n",
       "13996  casablanca  \n",
       "13997      athens  \n",
       "13998       quito  \n",
       "13999  casablanca  \n",
       "\n",
       "[14000 rows x 37 columns]"
      ]
     },
     "execution_count": 2,
     "metadata": {},
     "output_type": "execute_result"
    }
   ],
   "source": [
    "# read in data\n",
    "df_cat = pd.read_csv('cleaned_QC_data.csv')\n",
    "\n",
    "# group by circuit\n",
    "df_gb = df_cat.groupby('Circuit')\n",
    "\n",
    "# intitiate list dfs for each circuit\n",
    "list_dfs = []\n",
    "\n",
    "# do for all 9 circuits\n",
    "for i in range(9):\n",
    "    # get group for the current circuit and reset the index\n",
    "    df_sub = df_gb.get_group(i+1)[['p00','p01','p10','p11']].reset_index(drop=True)\n",
    "    \n",
    "    # create new column names which include the circuit number\n",
    "    col_names = {'p00':'p00_'+str(i+1),'p01':'p01_'+str(i+1),'p10':'p10_'+str(i+1),'p11':'p11_'+str(i+1)}\n",
    "    df_sub.rename(columns=col_names, inplace=True)\n",
    "    \n",
    "    # add df to list\n",
    "    list_dfs.append(df_sub)\n",
    "\n",
    "# concatenate groups from list\n",
    "df = pd.concat(list_dfs, axis=1)\n",
    "\n",
    "# append target column\n",
    "df['QC Name'] = df_gb.get_group(1)['QC Name'].reset_index(drop=True)\n",
    "\n",
    "# shuffle\n",
    "df = df.sample(frac=1).reset_index(drop=True)\n",
    "\n",
    "# show\n",
    "df"
   ]
  },
  {
   "cell_type": "markdown",
   "id": "d6462142-6881-47c7-83e6-120c153a4eab",
   "metadata": {},
   "source": [
    "## Batch\n",
    "There are too many rows to run on a quantum device in a reasonable amount of time so a small random batch is selected."
   ]
  },
  {
   "cell_type": "code",
   "execution_count": 3,
   "id": "09e9b0e6-6a5a-4e80-b05b-0c7eb2066750",
   "metadata": {},
   "outputs": [],
   "source": [
    "# set sample size \n",
    "n = 80\n",
    "\n",
    "# sample\n",
    "df = df.sample(n).reset_index(drop=True)"
   ]
  },
  {
   "cell_type": "markdown",
   "id": "5418e43f-b382-4c5e-a848-d5be3b189b0c",
   "metadata": {},
   "source": [
    "## Train-Test Split"
   ]
  },
  {
   "cell_type": "code",
   "execution_count": 4,
   "id": "4384f3fa-884b-41f0-93e5-cc5101994125",
   "metadata": {},
   "outputs": [
    {
     "name": "stdout",
     "output_type": "stream",
     "text": [
      "training set == (60, 36) (60,) , validation set == (20, 36) (20,)\n"
     ]
    }
   ],
   "source": [
    "# split data (test size is 25%, use random seed for reproducability)\n",
    "df_tr,df_va = train_test_split(df, test_size=0.25, random_state=0)\n",
    "\n",
    "X_tr = df_tr.drop(['QC Name'], axis=1).to_numpy()\n",
    "X_va = df_va.drop(['QC Name'], axis=1).to_numpy()\n",
    "\n",
    "Y_tr = df_tr['QC Name'].to_numpy()\n",
    "Y_va = df_va['QC Name'].to_numpy()\n",
    "\n",
    "# show shapes of train and test inputs and target\n",
    "print ('training set ==',X_tr.shape,Y_tr.shape,', validation set ==', X_va.shape,Y_va.shape)"
   ]
  },
  {
   "cell_type": "markdown",
   "id": "2e134910-5568-41d0-a7a0-39d4e5d5029e",
   "metadata": {},
   "source": [
    "## Principle Component Analysis (PCA)\n",
    "PCA is used for dimensionality reduction from 36 features down to 5 so that the program can be run on 5-qubit quantum hardware."
   ]
  },
  {
   "cell_type": "code",
   "execution_count": 5,
   "id": "4d0921de-78fd-4d85-8cfa-6b4bd1884df3",
   "metadata": {},
   "outputs": [
    {
     "name": "stdout",
     "output_type": "stream",
     "text": [
      "training set == (60, 5) (60,) , validation set == (20, 5) (20,)\n"
     ]
    }
   ],
   "source": [
    "# instantiate PCA for 5 components\n",
    "pca = PCA(5)\n",
    "\n",
    "# fit PCA on training data\n",
    "pca.fit(X_tr)\n",
    "\n",
    "# transform training and testing data\n",
    "X_tr_pca = pca.transform(X_tr)\n",
    "X_va_pca = pca.transform(X_va)\n",
    "\n",
    "# show shapes of train and test inputs and target\n",
    "print ('training set ==',X_tr_pca.shape,Y_tr.shape,', validation set ==', X_va_pca.shape,Y_va.shape)"
   ]
  },
  {
   "cell_type": "markdown",
   "id": "04a44a5d-cfad-4e7e-89a9-215abb96ba7e",
   "metadata": {
    "tags": []
   },
   "source": [
    "# Quantum Support Vector Classification (SVC)\n",
    "Using the quantum kernel to determine the distance between points, perform SVC."
   ]
  },
  {
   "cell_type": "markdown",
   "id": "e424c318-775f-46cf-8dbb-5e08ba6aea34",
   "metadata": {},
   "source": [
    "## Runtinme Program Creation"
   ]
  },
  {
   "cell_type": "code",
   "execution_count": 6,
   "id": "b84e772f-6dfd-440c-87ce-0df57f8fa7f6",
   "metadata": {},
   "outputs": [
    {
     "data": {
      "text/plain": [
       "True"
      ]
     },
     "execution_count": 6,
     "metadata": {},
     "output_type": "execute_result"
    }
   ],
   "source": [
    "# load account\n",
    "IBMQ.load_account()\n",
    "\n",
    "# set provider\n",
    "provider = IBMQ.get_provider(hub = 'ibm-q')\n",
    "\n",
    "# check that provider has runtime\n",
    "provider.has_service('runtime')"
   ]
  },
  {
   "cell_type": "code",
   "execution_count": 7,
   "id": "6a7b67aa-978f-4ea0-bfdf-ff54dca10abb",
   "metadata": {},
   "outputs": [
    {
     "name": "stdout",
     "output_type": "stream",
     "text": [
      "quantum-kernel-estimation-e3bqAx6oZm\n"
     ]
    }
   ],
   "source": [
    "# upload runtime program\n",
    "program_id = provider.runtime.upload_program(\n",
    "    data=\"quantum_kernel_estimation.py\",\n",
    "    metadata=\"qke_metadata.json\"\n",
    ")\n",
    "\n",
    "# show program id\n",
    "print(program_id)"
   ]
  },
  {
   "cell_type": "code",
   "execution_count": 8,
   "id": "f5ce0fe9-f15c-4542-9de5-afe0d7e06092",
   "metadata": {},
   "outputs": [
    {
     "name": "stdout",
     "output_type": "stream",
     "text": [
      "Backend = ibmq_santiago\n"
     ]
    }
   ],
   "source": [
    "# set backend\n",
    "# backend must have 5 qubits and not be a simulator\n",
    "backends = provider.backends(filters=lambda x: x.configuration().n_qubits == 5\n",
    "                                   and not x.configuration().simulator)\n",
    "backend = least_busy(backends)\n",
    "\n",
    "# show backend\n",
    "print(\"Backend =\", backend)"
   ]
  },
  {
   "cell_type": "code",
   "execution_count": 9,
   "id": "381eefb9-1299-421e-8b40-ba8cd44a85c5",
   "metadata": {},
   "outputs": [
    {
     "name": "stdout",
     "output_type": "stream",
     "text": [
      "Quantum kernel validation score 0.85\n"
     ]
    }
   ],
   "source": [
    "# inputs to runtime must be serialized to json\n",
    "job = provider.runtime.run(program_id, options={\"backend_name\":backend.name()}, \n",
    "                               inputs={\"X_tr\":X_tr_pca.tolist(), \"Y_tr\":Y_tr.tolist(), \n",
    "                                       \"X_va\":X_va_pca.tolist(), \"Y_va\":Y_va.tolist()})\n",
    "\n",
    "try:\n",
    "    # run job\n",
    "    q_score = job.result()\n",
    "    # show validation score\n",
    "    print(\"Quantum kernel validation score\", q_score)\n",
    "except RuntimeJobFailureError as ex:\n",
    "    print(\"Job failed!: {}\".format(ex))"
   ]
  },
  {
   "cell_type": "code",
   "execution_count": 10,
   "id": "b09fd9c0-a17f-4e1f-af66-5a85c78708c2",
   "metadata": {},
   "outputs": [],
   "source": [
    "# delete custom program\n",
    "provider.runtime.delete_program(program_id)"
   ]
  },
  {
   "cell_type": "markdown",
   "id": "62f45de1-9dc8-4f9b-b545-8d6131fe4e0c",
   "metadata": {
    "tags": []
   },
   "source": [
    "# Classical Support Vector Classification (SVC)\n",
    "SCV is carried out using two different classical kernels for comparison. The linear kernel is simply \n",
    "\\begin{equation}\n",
    "    k(x,x') = \\langle x, x' \\rangle\n",
    "\\end{equation}\n",
    "and the RBF kernel is \n",
    "\\begin{equation*}\n",
    "    k(x,x') =e^{-\\gamma \\|x - x'\\|^2}.\n",
    "\\end{equation*}"
   ]
  },
  {
   "cell_type": "code",
   "execution_count": 11,
   "id": "ae89af7d-c952-4710-ab70-c0af1ab9493a",
   "metadata": {},
   "outputs": [
    {
     "name": "stdout",
     "output_type": "stream",
     "text": [
      "Linear kernel validation score 0.45\n"
     ]
    }
   ],
   "source": [
    "# do support vector classification with linear kernel\n",
    "l_model = SVC(kernel='linear')\n",
    "l_model.fit(X_tr_pca, Y_tr)\n",
    "l_score = l_model.score(X_va_pca, Y_va)\n",
    "\n",
    "# show validation score\n",
    "print(\"Linear kernel validation score\", l_score)"
   ]
  },
  {
   "cell_type": "code",
   "execution_count": 12,
   "id": "8125da1d-d235-4f8e-8e59-f0234d1524ed",
   "metadata": {},
   "outputs": [
    {
     "name": "stdout",
     "output_type": "stream",
     "text": [
      "RBF kernel validation score 0.85\n"
     ]
    }
   ],
   "source": [
    "# do support vector classification with rbf kernel (default)\n",
    "rbf_model = SVC(kernel='rbf')\n",
    "rbf_model.fit(X_tr_pca, Y_tr)\n",
    "rbf_score = rbf_model.score(X_va_pca, Y_va)\n",
    "\n",
    "# show validation score\n",
    "print(\"RBF kernel validation score\", rbf_score)"
   ]
  },
  {
   "cell_type": "code",
   "execution_count": 13,
   "id": "4f069e6f-4df0-4371-aa0d-f5bb31618163",
   "metadata": {},
   "outputs": [
    {
     "data": {
      "text/html": [
       "<h3>Version Information</h3><table><tr><th>Qiskit Software</th><th>Version</th></tr><tr><td><code>qiskit-terra</code></td><td>0.19.1</td></tr><tr><td><code>qiskit-aer</code></td><td>0.10.2</td></tr><tr><td><code>qiskit-ignis</code></td><td>0.7.0</td></tr><tr><td><code>qiskit-ibmq-provider</code></td><td>0.18.3</td></tr><tr><td><code>qiskit</code></td><td>0.34.1</td></tr><tr><td><code>qiskit-machine-learning</code></td><td>0.3.0</td></tr><tr><th>System information</th></tr><tr><td>Python version</td><td>3.9.9</td></tr><tr><td>Python compiler</td><td>Clang 13.0.0 (clang-1300.0.29.3)</td></tr><tr><td>Python build</td><td>main, Nov 21 2021 03:16:13</td></tr><tr><td>OS</td><td>Darwin</td></tr><tr><td>CPUs</td><td>8</td></tr><tr><td>Memory (Gb)</td><td>8.0</td></tr><tr><td colspan='2'>Mon Mar 21 14:52:08 2022 PDT</td></tr></table>"
      ],
      "text/plain": [
       "<IPython.core.display.HTML object>"
      ]
     },
     "metadata": {},
     "output_type": "display_data"
    }
   ],
   "source": [
    "import qiskit.tools.jupyter\n",
    "%qiskit_version_table"
   ]
  }
 ],
 "metadata": {
  "kernelspec": {
   "display_name": "Python 3 (ipykernel)",
   "language": "python",
   "name": "python3"
  },
  "language_info": {
   "codemirror_mode": {
    "name": "ipython",
    "version": 3
   },
   "file_extension": ".py",
   "mimetype": "text/x-python",
   "name": "python",
   "nbconvert_exporter": "python",
   "pygments_lexer": "ipython3",
   "version": "3.9.9"
  }
 },
 "nbformat": 4,
 "nbformat_minor": 5
}
